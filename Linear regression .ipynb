{
 "cells": [
  {
   "cell_type": "code",
   "execution_count": 3,
   "metadata": {},
   "outputs": [],
   "source": [
    "import matplotlib.pyplot as plt\n"
   ]
  },
  {
   "cell_type": "code",
   "execution_count": 4,
   "metadata": {},
   "outputs": [],
   "source": [
    "import numpy as np"
   ]
  },
  {
   "cell_type": "code",
   "execution_count": 5,
   "metadata": {},
   "outputs": [],
   "source": [
    "#importing datasets from scikit learn\n",
    "from sklearn import datasets , linear_model"
   ]
  },
  {
   "cell_type": "code",
   "execution_count": 6,
   "metadata": {},
   "outputs": [],
   "source": [
    "#load the dataset\n",
    "house_price = [245, 312, 279, 308, 199, 219, 405, 325, 319, 255]\n",
    "size = [1400, 1600, 1700, 1875, 1100, 1550, 2350, 2450, 1425, 1700]"
   ]
  },
  {
   "cell_type": "code",
   "execution_count": 7,
   "metadata": {},
   "outputs": [],
   "source": [
    "#reshape the input to your regression\n",
    "# -1 means create a arrray and 1 means each having 1 element. all elements in size2 are [[1400][1600] ..] \n",
    "size2 = np.array(size).reshape((-1,1))"
   ]
  },
  {
   "cell_type": "code",
   "execution_count": 8,
   "metadata": {},
   "outputs": [],
   "source": [
    "#linear regression classifier\n",
    "regr = linear_model.LinearRegression()\n"
   ]
  },
  {
   "cell_type": "code",
   "execution_count": 9,
   "metadata": {},
   "outputs": [
    {
     "data": {
      "text/plain": [
       "LinearRegression(copy_X=True, fit_intercept=True, n_jobs=1, normalize=False)"
      ]
     },
     "execution_count": 9,
     "metadata": {},
     "output_type": "execute_result"
    }
   ],
   "source": [
    "#fit module used to fit data frequently and quickly\n",
    "regr.fit(size2, house_price)"
   ]
  },
  {
   "cell_type": "code",
   "execution_count": 10,
   "metadata": {},
   "outputs": [
    {
     "name": "stdout",
     "output_type": "stream",
     "text": [
      "coefficient : \n",
      " [0.11023544]\n",
      "intercept : \n",
      " 97.54621380846325\n"
     ]
    }
   ],
   "source": [
    "#printing coefficient and intercept\n",
    "\n",
    "print(\"coefficient : \\n\", regr.coef_ )\n",
    "print(\"intercept : \\n\", regr.intercept_)"
   ]
  },
  {
   "cell_type": "code",
   "execution_count": 11,
   "metadata": {},
   "outputs": [
    {
     "name": "stdout",
     "output_type": "stream",
     "text": [
      "by formula  [251.87583519]\n",
      "[251.87583519]\n"
     ]
    }
   ],
   "source": [
    "# checking prediction by formula a + b(size) = price\n",
    "size_new = 1400\n",
    "price = regr.coef_ * size_new + regr.intercept_\n",
    "print(\"by formula \", price)\n",
    "# By inbuilt function predict\n",
    "print(regr.predict([[size_new]]))"
   ]
  },
  {
   "cell_type": "code",
   "execution_count": 12,
   "metadata": {},
   "outputs": [],
   "source": [
    "#Formula obtained for the trained model\n",
    "def graph(formula, x_range):\n",
    "    # x_range array converted to np array\n",
    "    x = np.array(x_range)\n",
    "    # formula is evaluated as y\n",
    "    y = eval(formula)\n",
    "    #plotting graph\n",
    "    plt.plot(x, y)"
   ]
  },
  {
   "cell_type": "code",
   "execution_count": 13,
   "metadata": {},
   "outputs": [
    {
     "data": {
      "image/png": "[encoded data removed]",
      "text/plain": [
       "<Figure size 432x288 with 1 Axes>"
      ]
     },
     "metadata": {},
     "output_type": "display_data"
    }
   ],
   "source": [
    "#Plotting the prediction line\n",
    "graph('regr.coef_*x + regr.intercept_', range(1000,2700))\n",
    "plt.scatter(size, house_price, color='black')\n",
    "plt.ylabel('House Price')\n",
    "plt.xlabel('Size of Houses')\n",
    "plt.show()"
   ]
  }
 ],
 "metadata": {
  "kernelspec": {
   "display_name": "Python 3",
   "language": "python",
   "name": "python3"
  },
  "language_info": {
   "codemirror_mode": {
    "name": "ipython",
    "version": 3
   },
   "file_extension": ".py",
   "mimetype": "text/x-python",
   "name": "python",
   "nbconvert_exporter": "python",
   "pygments_lexer": "ipython3",
   "version": "3.6.5"
  }
 },
 "nbformat": 4,
 "nbformat_minor": 2
}
